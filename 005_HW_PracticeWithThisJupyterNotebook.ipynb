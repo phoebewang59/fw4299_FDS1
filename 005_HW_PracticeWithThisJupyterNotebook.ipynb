{
 "cells": [
  {
   "cell_type": "markdown",
   "id": "b71af9f1",
   "metadata": {},
   "source": [
    "# This is a notebook for homework used to practice the class workflow\n",
    "\n",
    "You are asked to add your information below:\n",
    "\n",
    "Name: Phoebe \n",
    "\n",
    "Surname: Wang\n",
    "\n",
    "EID: fw4299"
   ]
  },
  {
   "cell_type": "markdown",
   "id": "a758306e",
   "metadata": {},
   "source": [
    "Create a table with 5 rows and 3 columns using Markdown.\n",
    "\n",
    "Column 1 should code for artist name\n",
    "Column 2 should code for a song title\n",
    "Column 3 should reason you like the song.\n",
    "\n",
    "Please fill out the table with your top 5 artists and their respective top songs and an note explaining why/what you like of the song and artist.\n",
    "\n",
    "###### Hint: Avoid say \"because they are awesome!\" We really are interested in learning what you guys like.\n"
   ]
  },
  {
   "cell_type": "markdown",
   "id": "ddc29e7d",
   "metadata": {},
   "source": [
    "| Artist Name | Song Title | Reasoning |\n",
    "| :- | :- | :- |\n",
    "| JJ Lin | Practice Love | This is a chinese song and I like the story behind this song. |\n",
    "| Vanessa Hudgens and Zac Efron | Right Here, Right Now | I love High School Musical, and this is my favorite song out of the three movies. |\n",
    "| Anika Noni Rose | Almost There | I like the perseverance and optimism from this song and the movie character. |\n",
    "| Scarlett Johansson | Set it All Free | I like the melody and the story in the movie that goes along with this song.|\n",
    "| Troye Sivan | Rush | It has a nice beat and I like the summer vibes. |"
   ]
  }
 ],
 "metadata": {
  "kernelspec": {
   "display_name": "Python 3 (ipykernel)",
   "language": "python",
   "name": "python3"
  },
  "language_info": {
   "codemirror_mode": {
    "name": "ipython",
    "version": 3
   },
   "file_extension": ".py",
   "mimetype": "text/x-python",
   "name": "python",
   "nbconvert_exporter": "python",
   "pygments_lexer": "ipython3",
   "version": "3.11.4"
  }
 },
 "nbformat": 4,
 "nbformat_minor": 5
}
